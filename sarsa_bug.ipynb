{
 "cells": [
  {
   "cell_type": "code",
   "execution_count": 5,
   "id": "b19aa95d",
   "metadata": {},
   "outputs": [],
   "source": [
    "import numpy as np\n",
    "import gym\n",
    "import matplotlib.pyplot as plt\n",
    "import seaborn as sns\n",
    "\n",
    "\n",
    "# In[115]:\n",
    "\n",
    "\n",
    "env = gym.make('CliffWalking-v0', render_mode=\"rgb_array\")\n",
    "epsilon = 0.1\n",
    "episodes = 100\n",
    "max_steps = 100\n",
    "alpha = 0.1\n",
    "gamma = 0.99\n",
    "\n",
    "\n",
    "# In[98]:\n",
    "\n",
    "\n",
    "Q = np.zeros((env.observation_space.n, env.action_space.n))\n",
    "\n",
    "\n",
    "# In[99]:\n",
    "\n",
    "\n"
   ]
  },
  {
   "cell_type": "code",
   "execution_count": 7,
   "id": "35a66c9c",
   "metadata": {},
   "outputs": [
    {
     "name": "stdout",
     "output_type": "stream",
     "text": [
      "Using matplotlib backend: Qt5Agg\n"
     ]
    }
   ],
   "source": [
    "def choose_action(state):\n",
    "    action = 0\n",
    "    if np.random.uniform(0,1) < epsilon:\n",
    "        if type(state) != type(1):\n",
    "            action = np.argmax(Q[state[0], :])\n",
    "        else: \n",
    "            action = np.argmax(Q[state, :])\n",
    "    else:\n",
    "        action = env.action_space.sample()\n",
    "    return action\n",
    "\n",
    "def update(state, state2, reward, action, action2):\n",
    "    if type(state) != type(2):\n",
    "        predict = Q[state[0], action]\n",
    "        target = reward + gamma*Q[state2, action2]\n",
    "        Q[state[0], action] = Q[state[0], action] + alpha * (target - predict)\n",
    "    else:\n",
    "        predict = Q[state, action]\n",
    "        target = reward + gamma*Q[state2, action2]\n",
    "        Q[state, action] = Q[state, action] + alpha * (target - predict)\n",
    "\n",
    "\n",
    "# In[120]:\n",
    "\n",
    "\n",
    "reward = 0\n",
    "for episode in range(episodes):\n",
    "    t = 0\n",
    "    state1 = env.reset()\n",
    "    action1 = choose_action(state1)\n",
    "    \n",
    "    while t < max_steps:\n",
    "        \n",
    "        env.render()\n",
    "        \n",
    "        state2, reward, done, info, p = env.step(action1)\n",
    "        \n",
    "        action2 = choose_action(state2)\n",
    "        \n",
    "        update(state1, state2, reward, action1, action2)\n",
    "        state1 = state2\n",
    "        action1 = action2\n",
    "        \n",
    "        t += 1\n",
    "        reward += 1\n",
    "\n",
    "\n",
    "# In[121]:\n",
    "\n",
    "\n",
    "get_ipython().run_line_magic('matplotlib', '')\n",
    "sns.heatmap(Q, annot=True, cmap='hot')\n",
    "plt.show()"
   ]
  }
 ],
 "metadata": {
  "kernelspec": {
   "display_name": "Python 3 (ipykernel)",
   "language": "python",
   "name": "python3"
  },
  "language_info": {
   "codemirror_mode": {
    "name": "ipython",
    "version": 3
   },
   "file_extension": ".py",
   "mimetype": "text/x-python",
   "name": "python",
   "nbconvert_exporter": "python",
   "pygments_lexer": "ipython3",
   "version": "3.9.7"
  }
 },
 "nbformat": 4,
 "nbformat_minor": 5
}
