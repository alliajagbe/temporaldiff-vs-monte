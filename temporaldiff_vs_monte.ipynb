{
 "cells": [
  {
   "cell_type": "code",
   "execution_count": 3,
   "id": "7fc79e02-e7ca-4db8-99da-13612cf64b3a",
   "metadata": {},
   "outputs": [],
   "source": [
    "import numpy as np\n",
    "import matplotlib.pyplot as plt"
   ]
  },
  {
   "cell_type": "code",
   "execution_count": 35,
   "id": "1be12441-e545-48ce-87be-50e854418665",
   "metadata": {},
   "outputs": [],
   "source": [
    "true_value = np.array([0, 1/6, 2/6, 3/6, 4/6, 5/6, 1])\n",
    "num_episodes = 1000\n",
    "alpha = 0.01"
   ]
  },
  {
   "cell_type": "code",
   "execution_count": 36,
   "id": "536bf80d-7977-4be7-b8f8-40c4081078ab",
   "metadata": {},
   "outputs": [],
   "source": [
    "# Define the TD learning algorithm\n",
    "def TD_learning(num_episodes, alpha):\n",
    "    value = np.zeros(7)\n",
    "    for episode in range(num_episodes):\n",
    "        state = 3\n",
    "        while state != 6:\n",
    "            next_state = np.random.randint(0, 7)\n",
    "            \n",
    "            if next_state == 6:\n",
    "                reward = 0\n",
    "            else:\n",
    "                reward = -1\n",
    "                \n",
    "            delta = reward + value[next_state] - value[state]\n",
    "            value[state] += alpha * delta\n",
    "            state = next_state\n",
    "    return value"
   ]
  },
  {
   "cell_type": "code",
   "execution_count": 37,
   "id": "ffceb8be-0cbf-435d-92dd-69946e7c3f20",
   "metadata": {},
   "outputs": [],
   "source": [
    "def MC_learning(num_episodes, alpha):\n",
    "    value = np.zeros(7)\n",
    "    for episode in range(num_episodes):\n",
    "        state = 3\n",
    "        episode_states = [3]\n",
    "        episode_rewards = []\n",
    "        while state != 6:\n",
    "            next_state = np.random.randint(0, 7)\n",
    "            reward = 0 if next_state == 6 else -1\n",
    "            episode_states.append(next_state)\n",
    "            episode_rewards.append(reward)\n",
    "            state = next_state\n",
    "        G = 0\n",
    "        for i in range(len(episode_states)-1, -1, -1):\n",
    "            state = episode_states[i]\n",
    "            reward = episode_rewards[i-1]\n",
    "            G = reward + G\n",
    "            value[state] = value[state] + alpha * (G - value[state])\n",
    "    return value"
   ]
  },
  {
   "cell_type": "code",
   "execution_count": 38,
   "id": "ab9739a9-eb37-4c63-8d1e-d07d59382ee3",
   "metadata": {},
   "outputs": [],
   "source": [
    "TD_values = TD_learning(num_episodes, alpha)"
   ]
  },
  {
   "cell_type": "code",
   "execution_count": 39,
   "id": "591641cf-32f4-48cc-8c4e-87ee2c3c0064",
   "metadata": {},
   "outputs": [],
   "source": [
    "MC_values = MC_learning(num_episodes, alpha)"
   ]
  },
  {
   "cell_type": "code",
   "execution_count": 40,
   "id": "c73737ae-11f7-4e79-8f12-1445344c74a6",
   "metadata": {},
   "outputs": [
    {
     "data": {
      "image/png": "[encoded data removed]",
      "text/plain": [
       "<Figure size 432x288 with 1 Axes>"
      ]
     },
     "metadata": {
      "needs_background": "light"
     },
     "output_type": "display_data"
    }
   ],
   "source": [
    "# Plot the true state-value function and the estimated values\n",
    "#plt.plot(true_value, label='True Values')\n",
    "plt.plot(TD_values, label='TD Values')\n",
    "plt.plot(MC_values, label='MC Values')\n",
    "plt.legend()\n",
    "plt.show()"
   ]
  },
  {
   "cell_type": "code",
   "execution_count": null,
   "id": "eb09e17c-92fd-4960-8e5d-7b1d722f93dd",
   "metadata": {},
   "outputs": [],
   "source": []
  }
 ],
 "metadata": {
  "kernelspec": {
   "display_name": "Python 3 (ipykernel)",
   "language": "python",
   "name": "python3"
  },
  "language_info": {
   "codemirror_mode": {
    "name": "ipython",
    "version": 3
   },
   "file_extension": ".py",
   "mimetype": "text/x-python",
   "name": "python",
   "nbconvert_exporter": "python",
   "pygments_lexer": "ipython3",
   "version": "3.9.7"
  }
 },
 "nbformat": 4,
 "nbformat_minor": 5
}
